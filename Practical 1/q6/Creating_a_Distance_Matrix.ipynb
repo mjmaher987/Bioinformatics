{
  "nbformat": 4,
  "nbformat_minor": 0,
  "metadata": {
    "colab": {
      "provenance": []
    },
    "kernelspec": {
      "name": "python3",
      "display_name": "Python 3"
    },
    "language_info": {
      "name": "python"
    }
  },
  "cells": [
    {
      "cell_type": "code",
      "execution_count": 51,
      "metadata": {
        "colab": {
          "base_uri": "https://localhost:8080/"
        },
        "id": "t2Fp2SUPDJuc",
        "outputId": "f8f28d24-034e-4def-b617-b96ec9de11bf"
      },
      "outputs": [
        {
          "output_type": "stream",
          "name": "stdout",
          "text": [
            "0.0 0.4 0.1 0.1 \n",
            "0.4 0.0 0.4 0.3 \n",
            "0.1 0.4 0.0 0.2 \n",
            "0.1 0.3 0.2 0.0 \n"
          ]
        }
      ],
      "source": [
        "# import os\n",
        "# os.chdir('c:/Users/mjmah/OneDrive/Desktop/everything/Main/term7/bio/HWs/HW1/q5')\n",
        "class DNA:\n",
        "  def __init__(self):\n",
        "    self.string = \"\"\n",
        "  def add_neucleotide(self, to_add):\n",
        "    self.string += to_add\n",
        "\n",
        "import numpy as np\n",
        "all_DNAs = []\n",
        "last_dna = None\n",
        "with open('rosalind_pdst.txt', 'r') as file:\n",
        "  for dna in file:\n",
        "    dna = dna.strip()\n",
        "    if dna.startswith('>'):\n",
        "      last_dna = DNA()\n",
        "      all_DNAs.append(last_dna)\n",
        "    else:\n",
        "      last_dna.add_neucleotide(dna)\n",
        "\n",
        "def calc_dist(one, two):\n",
        "  val= sum(list(map(int, np.array(list(one.string)) == np.array(list(two.string))))) / len(one.string)\n",
        "  return val\n",
        "\n",
        "similarity_scores = [[0.0 for x in range(len(all_DNAs))] for x in range(len(all_DNAs))]\n",
        "for i in range(len(all_DNAs)):\n",
        "  for j in range(len(all_DNAs)):\n",
        "    dna_1 = all_DNAs[i]\n",
        "    dna_2 = all_DNAs[j]\n",
        "    similarity_scores[i][j] = round(1.0000 - calc_dist(dna_1, dna_2), 2)\n",
        "    # print(similarity_scores[i][j])\n",
        "\n",
        "for x in range(len(similarity_scores)):\n",
        "  for y in range(len(similarity_scores)):\n",
        "    print(similarity_scores[x][y], end=' ')\n",
        "  print()"
      ]
    }
  ]
}